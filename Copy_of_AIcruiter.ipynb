{
  "nbformat": 4,
  "nbformat_minor": 0,
  "metadata": {
    "colab": {
      "provenance": [],
      "collapsed_sections": [
        "lLZ73fDxeb99",
        "FMp1jGAQfhiN",
        "Yxwyv3QwfyXx",
        "CMCGwgE8hPTy",
        "9mrCF65OhoNn",
        "jQc_7JJ9jknD"
      ],
      "include_colab_link": true
    },
    "kernelspec": {
      "name": "python3",
      "display_name": "Python 3"
    },
    "language_info": {
      "name": "python"
    }
  },
  "cells": [
    {
      "cell_type": "markdown",
      "metadata": {
        "id": "view-in-github",
        "colab_type": "text"
      },
      "source": [
        "<a href=\"https://colab.research.google.com/github/Indravaraj/resume_screening/blob/main/Copy_of_AIcruiter.ipynb\" target=\"_parent\"><img src=\"https://colab.research.google.com/assets/colab-badge.svg\" alt=\"Open In Colab\"/></a>"
      ]
    },
    {
      "cell_type": "markdown",
      "source": [
        "# Install required dependencies\n",
        "\n",
        "*   **PyPDF2**: Reads and extracts text from PDF documents.\n",
        "*   **pydata-google-auth**: Simplifies logging in to Google.\n",
        "*  **groq**: Helps us connect with AI models to analyze and process text.\n",
        "*  **langchain**: Makes it easy to create tasks using AI by building smart text-based workflows.\n",
        "\n",
        "\n",
        "\n",
        "\n",
        "\n",
        "\n",
        "\n",
        "\n",
        "\n",
        "\n",
        "\n",
        "\n",
        "\n"
      ],
      "metadata": {
        "id": "bIKtgA62adnB"
      }
    },
    {
      "cell_type": "code",
      "source": [
        "!pip install PyPDF2 pydata-google-auth groq langchain"
      ],
      "metadata": {
        "id": "ZV2aJTmRZuFr",
        "colab": {
          "base_uri": "https://localhost:8080/"
        },
        "outputId": "5c7eccc4-5b53-4267-9705-9dfd785aa8db"
      },
      "execution_count": 1,
      "outputs": [
        {
          "output_type": "stream",
          "name": "stdout",
          "text": [
            "Collecting PyPDF2\n",
            "  Downloading pypdf2-3.0.1-py3-none-any.whl.metadata (6.8 kB)\n",
            "Requirement already satisfied: pydata-google-auth in /usr/local/lib/python3.10/dist-packages (1.9.0)\n",
            "Collecting groq\n",
            "  Downloading groq-0.13.0-py3-none-any.whl.metadata (13 kB)\n",
            "Requirement already satisfied: langchain in /usr/local/lib/python3.10/dist-packages (0.3.9)\n",
            "Requirement already satisfied: setuptools in /usr/local/lib/python3.10/dist-packages (from pydata-google-auth) (75.1.0)\n",
            "Requirement already satisfied: google-auth<3.0dev,>=1.25.0 in /usr/local/lib/python3.10/dist-packages (from pydata-google-auth) (2.27.0)\n",
            "Requirement already satisfied: google-auth-oauthlib>=0.4.0 in /usr/local/lib/python3.10/dist-packages (from pydata-google-auth) (1.2.1)\n",
            "Requirement already satisfied: anyio<5,>=3.5.0 in /usr/local/lib/python3.10/dist-packages (from groq) (3.7.1)\n",
            "Requirement already satisfied: distro<2,>=1.7.0 in /usr/local/lib/python3.10/dist-packages (from groq) (1.9.0)\n",
            "Requirement already satisfied: httpx<1,>=0.23.0 in /usr/local/lib/python3.10/dist-packages (from groq) (0.28.0)\n",
            "Requirement already satisfied: pydantic<3,>=1.9.0 in /usr/local/lib/python3.10/dist-packages (from groq) (2.10.3)\n",
            "Requirement already satisfied: sniffio in /usr/local/lib/python3.10/dist-packages (from groq) (1.3.1)\n",
            "Requirement already satisfied: typing-extensions<5,>=4.7 in /usr/local/lib/python3.10/dist-packages (from groq) (4.12.2)\n",
            "Requirement already satisfied: PyYAML>=5.3 in /usr/local/lib/python3.10/dist-packages (from langchain) (6.0.2)\n",
            "Requirement already satisfied: SQLAlchemy<3,>=1.4 in /usr/local/lib/python3.10/dist-packages (from langchain) (2.0.36)\n",
            "Requirement already satisfied: aiohttp<4.0.0,>=3.8.3 in /usr/local/lib/python3.10/dist-packages (from langchain) (3.11.9)\n",
            "Requirement already satisfied: async-timeout<5.0.0,>=4.0.0 in /usr/local/lib/python3.10/dist-packages (from langchain) (4.0.3)\n",
            "Requirement already satisfied: langchain-core<0.4.0,>=0.3.21 in /usr/local/lib/python3.10/dist-packages (from langchain) (0.3.21)\n",
            "Requirement already satisfied: langchain-text-splitters<0.4.0,>=0.3.0 in /usr/local/lib/python3.10/dist-packages (from langchain) (0.3.2)\n",
            "Requirement already satisfied: langsmith<0.2.0,>=0.1.17 in /usr/local/lib/python3.10/dist-packages (from langchain) (0.1.147)\n",
            "Requirement already satisfied: numpy<2,>=1.22.4 in /usr/local/lib/python3.10/dist-packages (from langchain) (1.26.4)\n",
            "Requirement already satisfied: requests<3,>=2 in /usr/local/lib/python3.10/dist-packages (from langchain) (2.32.3)\n",
            "Requirement already satisfied: tenacity!=8.4.0,<10,>=8.1.0 in /usr/local/lib/python3.10/dist-packages (from langchain) (9.0.0)\n",
            "Requirement already satisfied: aiohappyeyeballs>=2.3.0 in /usr/local/lib/python3.10/dist-packages (from aiohttp<4.0.0,>=3.8.3->langchain) (2.4.4)\n",
            "Requirement already satisfied: aiosignal>=1.1.2 in /usr/local/lib/python3.10/dist-packages (from aiohttp<4.0.0,>=3.8.3->langchain) (1.3.1)\n",
            "Requirement already satisfied: attrs>=17.3.0 in /usr/local/lib/python3.10/dist-packages (from aiohttp<4.0.0,>=3.8.3->langchain) (24.2.0)\n",
            "Requirement already satisfied: frozenlist>=1.1.1 in /usr/local/lib/python3.10/dist-packages (from aiohttp<4.0.0,>=3.8.3->langchain) (1.5.0)\n",
            "Requirement already satisfied: multidict<7.0,>=4.5 in /usr/local/lib/python3.10/dist-packages (from aiohttp<4.0.0,>=3.8.3->langchain) (6.1.0)\n",
            "Requirement already satisfied: propcache>=0.2.0 in /usr/local/lib/python3.10/dist-packages (from aiohttp<4.0.0,>=3.8.3->langchain) (0.2.1)\n",
            "Requirement already satisfied: yarl<2.0,>=1.17.0 in /usr/local/lib/python3.10/dist-packages (from aiohttp<4.0.0,>=3.8.3->langchain) (1.18.3)\n",
            "Requirement already satisfied: idna>=2.8 in /usr/local/lib/python3.10/dist-packages (from anyio<5,>=3.5.0->groq) (3.10)\n",
            "Requirement already satisfied: exceptiongroup in /usr/local/lib/python3.10/dist-packages (from anyio<5,>=3.5.0->groq) (1.2.2)\n",
            "Requirement already satisfied: cachetools<6.0,>=2.0.0 in /usr/local/lib/python3.10/dist-packages (from google-auth<3.0dev,>=1.25.0->pydata-google-auth) (5.5.0)\n",
            "Requirement already satisfied: pyasn1-modules>=0.2.1 in /usr/local/lib/python3.10/dist-packages (from google-auth<3.0dev,>=1.25.0->pydata-google-auth) (0.4.1)\n",
            "Requirement already satisfied: rsa<5,>=3.1.4 in /usr/local/lib/python3.10/dist-packages (from google-auth<3.0dev,>=1.25.0->pydata-google-auth) (4.9)\n",
            "Requirement already satisfied: requests-oauthlib>=0.7.0 in /usr/local/lib/python3.10/dist-packages (from google-auth-oauthlib>=0.4.0->pydata-google-auth) (1.3.1)\n",
            "Requirement already satisfied: certifi in /usr/local/lib/python3.10/dist-packages (from httpx<1,>=0.23.0->groq) (2024.8.30)\n",
            "Requirement already satisfied: httpcore==1.* in /usr/local/lib/python3.10/dist-packages (from httpx<1,>=0.23.0->groq) (1.0.7)\n",
            "Requirement already satisfied: h11<0.15,>=0.13 in /usr/local/lib/python3.10/dist-packages (from httpcore==1.*->httpx<1,>=0.23.0->groq) (0.14.0)\n",
            "Requirement already satisfied: jsonpatch<2.0,>=1.33 in /usr/local/lib/python3.10/dist-packages (from langchain-core<0.4.0,>=0.3.21->langchain) (1.33)\n",
            "Requirement already satisfied: packaging<25,>=23.2 in /usr/local/lib/python3.10/dist-packages (from langchain-core<0.4.0,>=0.3.21->langchain) (24.2)\n",
            "Requirement already satisfied: orjson<4.0.0,>=3.9.14 in /usr/local/lib/python3.10/dist-packages (from langsmith<0.2.0,>=0.1.17->langchain) (3.10.12)\n",
            "Requirement already satisfied: requests-toolbelt<2.0.0,>=1.0.0 in /usr/local/lib/python3.10/dist-packages (from langsmith<0.2.0,>=0.1.17->langchain) (1.0.0)\n",
            "Requirement already satisfied: annotated-types>=0.6.0 in /usr/local/lib/python3.10/dist-packages (from pydantic<3,>=1.9.0->groq) (0.7.0)\n",
            "Requirement already satisfied: pydantic-core==2.27.1 in /usr/local/lib/python3.10/dist-packages (from pydantic<3,>=1.9.0->groq) (2.27.1)\n",
            "Requirement already satisfied: charset-normalizer<4,>=2 in /usr/local/lib/python3.10/dist-packages (from requests<3,>=2->langchain) (3.4.0)\n",
            "Requirement already satisfied: urllib3<3,>=1.21.1 in /usr/local/lib/python3.10/dist-packages (from requests<3,>=2->langchain) (2.2.3)\n",
            "Requirement already satisfied: greenlet!=0.4.17 in /usr/local/lib/python3.10/dist-packages (from SQLAlchemy<3,>=1.4->langchain) (3.1.1)\n",
            "Requirement already satisfied: jsonpointer>=1.9 in /usr/local/lib/python3.10/dist-packages (from jsonpatch<2.0,>=1.33->langchain-core<0.4.0,>=0.3.21->langchain) (3.0.0)\n",
            "Requirement already satisfied: pyasn1<0.7.0,>=0.4.6 in /usr/local/lib/python3.10/dist-packages (from pyasn1-modules>=0.2.1->google-auth<3.0dev,>=1.25.0->pydata-google-auth) (0.6.1)\n",
            "Requirement already satisfied: oauthlib>=3.0.0 in /usr/local/lib/python3.10/dist-packages (from requests-oauthlib>=0.7.0->google-auth-oauthlib>=0.4.0->pydata-google-auth) (3.2.2)\n",
            "Downloading pypdf2-3.0.1-py3-none-any.whl (232 kB)\n",
            "\u001b[2K   \u001b[90m━━━━━━━━━━━━━━━━━━━━━━━━━━━━━━━━━━━━━━━━\u001b[0m \u001b[32m232.6/232.6 kB\u001b[0m \u001b[31m15.1 MB/s\u001b[0m eta \u001b[36m0:00:00\u001b[0m\n",
            "\u001b[?25hDownloading groq-0.13.0-py3-none-any.whl (108 kB)\n",
            "\u001b[2K   \u001b[90m━━━━━━━━━━━━━━━━━━━━━━━━━━━━━━━━━━━━━━━━\u001b[0m \u001b[32m108.8/108.8 kB\u001b[0m \u001b[31m9.4 MB/s\u001b[0m eta \u001b[36m0:00:00\u001b[0m\n",
            "\u001b[?25hInstalling collected packages: PyPDF2, groq\n",
            "Successfully installed PyPDF2-3.0.1 groq-0.13.0\n"
          ]
        }
      ]
    },
    {
      "cell_type": "markdown",
      "source": [
        "# Imports and Their Functions\n",
        "\n",
        "**Authentication and Google API:**\n",
        "*  pydata_google_auth, build, HttpError: These are used to handle Google login, manage authentication tokens, and connect with Google services like Gmail and Calendar.\n",
        "\n",
        "**AI and Prompt Management:**\n",
        "*  Groq, PromptTemplate: These are used to interact with AI models and create structured prompts (questions) for the AI to understand and process.\n",
        "\n",
        "**File Handling:**\n",
        "*   PdfReader, files: These help read text from PDF files and allow file uploads in Google Colab.\n",
        "\n",
        "**Utilities:**\n",
        "*   datetime, base64, os: These are used to work with dates and times, encode data (for example, in emails), and manage files and directories.\n",
        "\n",
        "\n",
        "\n"
      ],
      "metadata": {
        "id": "e_N76AAtb6Os"
      }
    },
    {
      "cell_type": "code",
      "source": [
        "from groq import Groq\n",
        "from langchain.prompts import PromptTemplate\n",
        "from googleapiclient.discovery import build\n",
        "from googleapiclient.errors import HttpError\n",
        "from PyPDF2 import PdfReader\n",
        "import datetime\n",
        "import base64\n",
        "import os\n",
        "import pydata_google_auth\n",
        "from google.colab import files"
      ],
      "metadata": {
        "id": "mVQhvX-vcAxG"
      },
      "execution_count": 2,
      "outputs": []
    },
    {
      "cell_type": "markdown",
      "source": [
        "# Define Global Variables\n",
        "*   **api_key**: API key for the Groq AI service.\n",
        "*   **SCOPES**: Permissions for accessing Google Calendar and Gmail APIs.\n",
        "\n"
      ],
      "metadata": {
        "id": "hYWHazCIU6sW"
      }
    },
    {
      "cell_type": "code",
      "source": [
        "api_key = \"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\""
      ],
      "metadata": {
        "id": "vimtOCzL2684"
      },
      "execution_count": 6,
      "outputs": []
    },
    {
      "cell_type": "code",
      "source": [
        "SCOPES = ['https://www.googleapis.com/auth/calendar', 'https://www.googleapis.com/auth/gmail.send']"
      ],
      "metadata": {
        "id": "iXYAzWIJdZMh"
      },
      "execution_count": 7,
      "outputs": []
    },
    {
      "cell_type": "markdown",
      "source": [
        "# Google Authentication:\n",
        "\n",
        "*  **Purpose**: Authenticate access to Google services using OAuth2.\n",
        "*  **Key Steps**:\n",
        "  *   Fetch user credentials for specified SCOPES.\n",
        "  *   Return credentials for use in Gmail and Calendar API operations.\n",
        "\n",
        "\n",
        "\n",
        "\n",
        "\n",
        "\n",
        "\n"
      ],
      "metadata": {
        "id": "lLZ73fDxeb99"
      }
    },
    {
      "cell_type": "code",
      "source": [
        "import google.auth\n",
        "from google.auth.transport.requests import Request\n",
        "from google.oauth2.credentials import Credentials\n",
        "from google_auth_oauthlib.flow import InstalledAppFlow\n",
        "from googleapiclient.discovery import build\n",
        "from googleapiclient.errors import HttpError\n",
        "import os\n",
        "import json\n",
        "\n",
        "def authenticate_google():\n",
        "    creds = None\n",
        "\n",
        "    # Check if token.json exists (previously saved credentials)\n",
        "    if os.path.exists(\"token.json\"):\n",
        "        creds = Credentials.from_authorized_user_file(\"token.json\", SCOPES)\n",
        "        print(\"Token File Exists!!\")\n",
        "\n",
        "    # If there are no (valid) credentials, request new ones\n",
        "    if not creds or not creds.valid:\n",
        "        if creds and creds.expired and creds.refresh_token:\n",
        "            creds.refresh(Request())\n",
        "        else:\n",
        "            # Use InstalledAppFlow for authentication\n",
        "            flow = InstalledAppFlow.from_client_secrets_file(\n",
        "                \"/content/client_secret_586382823389-ni09423rct7s8kgdjiv6fvqvgkbm7k01.apps.googleusercontent.com.json\", SCOPES\n",
        "            )\n",
        "            # Generate the authorization URL\n",
        "            flow.redirect_uri = \"https://poditivity.com\"\n",
        "            auth_url, _ = flow.authorization_url(prompt=\"consent\")\n",
        "            print(f\"Please visit this URL to authorize this application: {auth_url}\")\n",
        "\n",
        "            # Prompt the user to enter the authorization code from the redirected URL\n",
        "            code = input(\"Enter the authorization code: \")\n",
        "\n",
        "            # Fetch the token using the authorization code\n",
        "            flow.fetch_token(code=code)\n",
        "            creds = flow.credentials\n",
        "\n",
        "        # Save the credentials for the next run\n",
        "        with open(\"token.json\", \"w\") as token_file:\n",
        "            json.dump({\n",
        "                \"token\": creds.token,\n",
        "                \"refresh_token\": creds.refresh_token,\n",
        "                \"token_uri\": creds.token_uri,\n",
        "                \"client_id\": creds.client_id,\n",
        "                \"client_secret\": creds.client_secret,\n",
        "                \"scopes\": creds.scopes\n",
        "            }, token_file)\n",
        "\n",
        "    return creds"
      ],
      "metadata": {
        "id": "5GsvvOSVeeYG"
      },
      "execution_count": 5,
      "outputs": []
    },
    {
      "cell_type": "code",
      "source": [
        "authenticate_google()"
      ],
      "metadata": {
        "colab": {
          "base_uri": "https://localhost:8080/"
        },
        "id": "BHpjcZONgu8F",
        "outputId": "31b37516-14f8-4fc4-ed8c-2815c26f6829"
      },
      "execution_count": 8,
      "outputs": [
        {
          "name": "stdout",
          "output_type": "stream",
          "text": [
            "Please visit this URL to authorize this application: https://accounts.google.com/o/oauth2/auth?response_type=code&client_id=586382823389-ni09423rct7s8kgdjiv6fvqvgkbm7k01.apps.googleusercontent.com&redirect_uri=https%3A%2F%2Fpoditivity.com&scope=https%3A%2F%2Fwww.googleapis.com%2Fauth%2Fcalendar+https%3A%2F%2Fwww.googleapis.com%2Fauth%2Fgmail.send&state=S1HOO4BzSuJT4DnsVkYh2UHz96LQvX&prompt=consent&access_type=offline\n",
            "Enter the authorization code: 4/0AeanS0ZWr5z8GFTyKgfR498jj8JC0XMhq-hsT4kJujxg1YnoD7WgwbtGXN-niixzNfCFKA\n"
          ]
        },
        {
          "output_type": "execute_result",
          "data": {
            "text/plain": [
              "<google.oauth2.credentials.Credentials at 0x7d216ef95d80>"
            ]
          },
          "metadata": {},
          "execution_count": 8
        }
      ]
    },
    {
      "cell_type": "markdown",
      "source": [
        "# Extract text from PDF\n",
        "\n",
        "*   **Purpose**: Extracts text content from a PDF.\n",
        "*   **Key Steps**:\n",
        "  *   Reads the PDF file.\n",
        "  *   Concatenates text from all pages into a single string.\n",
        "\n",
        "\n",
        "\n"
      ],
      "metadata": {
        "id": "FMp1jGAQfhiN"
      }
    },
    {
      "cell_type": "code",
      "source": [
        "def extract_text_from_pdf(pdf_path):\n",
        "    reader = PdfReader(pdf_path)\n",
        "    text = \"\".join(page.extract_text() for page in reader.pages)\n",
        "    return text"
      ],
      "metadata": {
        "id": "Ukz_Yx0cfklI"
      },
      "execution_count": 9,
      "outputs": []
    },
    {
      "cell_type": "markdown",
      "source": [],
      "metadata": {
        "id": "GISoxckVEGjG"
      }
    },
    {
      "cell_type": "markdown",
      "source": [
        "# Assess Suitability\n",
        "\n",
        "*   **Purpose**: Uses AI to determine if a candidate matches the job description.\n",
        "*   **Key Steps**:\n",
        "  *   Creates a structured prompt for the AI model.\n",
        "  *   Sends the query to the Groq API.\n",
        "  *   Returns a simple \"YES\" or \"NO\" decision.\n",
        "\n",
        "\n",
        "\n",
        "\n",
        "\n"
      ],
      "metadata": {
        "id": "Yxwyv3QwfyXx"
      }
    },
    {
      "cell_type": "code",
      "source": [
        "def assess_suitability(job_description, resume):\n",
        "    # Define a prompt template\n",
        "    prompt_template = PromptTemplate(\n",
        "        input_variables=[\"resume\", \"job_description\"],\n",
        "        template=(\n",
        "            \"Consider yourself as an experienced talent acquisition specialist. Given the job description and the candidate's resume below, \"\n",
        "            \"determine if the candidate is suitable for the role.\\n\\n\"\n",
        "            \"Job Description:\\n{job_description}\\n\\n\"\n",
        "            \"Candidate Resume:\\n{resume}\\n\\n\"\n",
        "            \"Respond STRICTLY with 'YES' or 'NO'. 'YES' if the candidate is suitable, otherwise 'NO'.\"\n",
        "        ),\n",
        "    )\n",
        "\n",
        "    query = prompt_template.format(job_description=job_description, resume=resume)\n",
        "    client = Groq(api_key=api_key)\n",
        "\n",
        "    response = client.chat.completions.create(\n",
        "        messages=[{\n",
        "                \"role\": \"system\",\n",
        "                \"content\": \"You are a talent acquisition specialist, analyze the resume against the job description provided.\"\n",
        "            },\n",
        "            {\n",
        "                \"role\": \"user\",\n",
        "                \"content\": query\n",
        "            }\n",
        "        ],\n",
        "        model=\"llama3-8b-8192\",\n",
        "    )\n",
        "    print(response)\n",
        "\n",
        "    return response.choices[0].message.content"
      ],
      "metadata": {
        "id": "k29v9hSW2P1V"
      },
      "execution_count": 10,
      "outputs": []
    },
    {
      "cell_type": "markdown",
      "source": [
        "# Send an email to specific email ID with given subject and body\n",
        "*   **Purpose**: Sends an email using Gmail API.\n",
        "*   **Key Steps**:\n",
        "  *   Encodes the email message.\n",
        "  *   Sends it through the Gmail service."
      ],
      "metadata": {
        "id": "CMCGwgE8hPTy"
      }
    },
    {
      "cell_type": "code",
      "source": [
        "def send_email(service, to_email, subject, body):\n",
        "    message = {\n",
        "        \"raw\": base64.urlsafe_b64encode(\n",
        "            f\"To: {to_email}\\nSubject: {subject}\\n\\n{body}\".encode(\"utf-8\")\n",
        "        ).decode(\"utf-8\")\n",
        "    }\n",
        "    try:\n",
        "        service.users().messages().send(userId=\"me\", body=message).execute()\n",
        "    except HttpError as error:\n",
        "        print(f\"An error occurred: {error}\")"
      ],
      "metadata": {
        "id": "OwklhVHFhZl-"
      },
      "execution_count": 11,
      "outputs": []
    },
    {
      "cell_type": "markdown",
      "source": [
        "# Schedule an invitation for the Interview if the candidate is shortlisted\n",
        "*   **Purpose**: Creates a calendar event and generates a Google Meet link.\n",
        "*   **Key Steps**:\n",
        "  *   Schedules a 30-minute interview for the next day.\n",
        "  *   Sends event details to Google Calendar."
      ],
      "metadata": {
        "id": "9mrCF65OhoNn"
      }
    },
    {
      "cell_type": "code",
      "source": [
        "def schedule_interview(service, candidate_email, candidate_name):\n",
        "    now = datetime.datetime.utcnow()\n",
        "    start_time = now + datetime.timedelta(days=1, hours=3)  # Set for next day\n",
        "    end_time = start_time + datetime.timedelta(minutes=30)\n",
        "\n",
        "    event = {\n",
        "        \"summary\": f'Interview with {candidate_name}',\n",
        "        \"location\": \"Google Meet\",\n",
        "        \"description\": \"Discussion regarding the job application.\",\n",
        "        \"start\": {\"dateTime\": start_time.isoformat() + \"Z\", \"timeZone\": \"UTC\"},\n",
        "        \"end\": {\"dateTime\": end_time.isoformat() + \"Z\", \"timeZone\": \"UTC\"},\n",
        "        \"conferenceData\": {\n",
        "            \"createRequest\": {\n",
        "                \"requestId\": \"sample123\",\n",
        "                \"conferenceSolutionKey\": {\"type\": \"hangoutsMeet\"},\n",
        "            }\n",
        "        },\n",
        "        \"attendees\": [{\"email\": candidate_email}],\n",
        "    }\n",
        "    try:\n",
        "        event_result = service.events().insert(\n",
        "            calendarId=\"primary\",\n",
        "            body=event,\n",
        "            conferenceDataVersion=1,\n",
        "        ).execute()\n",
        "\n",
        "        return event_result.get(\"hangoutLink\")\n",
        "    except HttpError as error:\n",
        "        print(f\"An error occurred: {error}\")\n",
        "        return None"
      ],
      "metadata": {
        "id": "5j22LdTziIUY"
      },
      "execution_count": 12,
      "outputs": []
    },
    {
      "cell_type": "markdown",
      "source": [
        "# Resume Screening\n",
        "*   **Purpose**: Coordinates the full process.\n",
        "*   **Key Steps**:\n",
        "  *   Authenticates Google APIs.\n",
        "  *   Extracts text from PDFs.\n",
        "  *   Uses AI to evaluate the candidate.\n",
        "  *   Sends emails based on the decision.\n",
        "  *   If selected, schedules an interview."
      ],
      "metadata": {
        "id": "jQc_7JJ9jknD"
      }
    },
    {
      "cell_type": "code",
      "source": [
        "def resume_screening(job_description_pdf, resume_pdf, candidate_email, candidate_name):\n",
        "    creds = authenticate_google()\n",
        "    gmail_service = build(\"gmail\", \"v1\", credentials=creds)\n",
        "    calendar_service = build(\"calendar\", \"v3\", credentials=creds)\n",
        "\n",
        "    job_description = extract_text_from_pdf(job_description_pdf)\n",
        "    resume = extract_text_from_pdf(resume_pdf)\n",
        "\n",
        "    decision = assess_suitability(job_description, resume)\n",
        "\n",
        "    print(decision)\n",
        "\n",
        "    if decision == \"NO\":\n",
        "        send_email(\n",
        "            gmail_service,\n",
        "            to_email=candidate_email,\n",
        "            subject=\"Application Update\",\n",
        "            body=f\"Dear, {candidate_name}\\n\\n\"\n",
        "            \"Thank you for applying. Unfortunately, your skills do not match the role requirements at this time. We wish you the best of luck in your career!\",\n",
        "        )\n",
        "    elif decision == \"YES\":\n",
        "        meet_link = schedule_interview(calendar_service, candidate_email, candidate_name)\n",
        "        if meet_link:\n",
        "            send_email(\n",
        "                gmail_service,\n",
        "                to_email=candidate_email,\n",
        "                subject=\"Interview Invitation\",\n",
        "                body=(\n",
        "                    f\"Congratulations {candidate_name}!\\n\\n\"\n",
        "                    \"You've been shortlisted for the role.\\n\"\n",
        "                    f\"Please join us for an interview at the following link: {meet_link}\"\n",
        "                ),\n",
        "            )"
      ],
      "metadata": {
        "id": "gYYWnt4Ejr5C"
      },
      "execution_count": 13,
      "outputs": []
    },
    {
      "cell_type": "markdown",
      "source": [
        "# User Interaction\n",
        "\n",
        "*   **Purpose**: Accepts user inputs and starts the screening process.\n",
        "*   **Key Steps**:\n",
        "  *   Prompts for job description and resume uploads.\n",
        "  *   Collects candidate details.\n",
        "  *   Initiates the resume_screening function."
      ],
      "metadata": {
        "id": "-_8y_uRNaieq"
      }
    },
    {
      "cell_type": "markdown",
      "source": [
        "**Uploading Job Description**"
      ],
      "metadata": {
        "id": "fMx7iDRBkMTl"
      }
    },
    {
      "cell_type": "code",
      "source": [
        "print(\"Upload job description PDF\")\n",
        "job_desc_file = files.upload()\n",
        "job_desc_path = next(iter(job_desc_file.keys()))"
      ],
      "metadata": {
        "colab": {
          "base_uri": "https://localhost:8080/",
          "height": 90
        },
        "id": "R39qBo0LkobJ",
        "outputId": "4ec93d44-5f7c-490d-f064-3da19c3dd14c"
      },
      "execution_count": 14,
      "outputs": [
        {
          "output_type": "stream",
          "name": "stdout",
          "text": [
            "Upload job description PDF\n"
          ]
        },
        {
          "output_type": "display_data",
          "data": {
            "text/plain": [
              "<IPython.core.display.HTML object>"
            ],
            "text/html": [
              "\n",
              "     <input type=\"file\" id=\"files-65059e0f-78b6-4b5f-8251-bed40d8d8718\" name=\"files[]\" multiple disabled\n",
              "        style=\"border:none\" />\n",
              "     <output id=\"result-65059e0f-78b6-4b5f-8251-bed40d8d8718\">\n",
              "      Upload widget is only available when the cell has been executed in the\n",
              "      current browser session. Please rerun this cell to enable.\n",
              "      </output>\n",
              "      <script>// Copyright 2017 Google LLC\n",
              "//\n",
              "// Licensed under the Apache License, Version 2.0 (the \"License\");\n",
              "// you may not use this file except in compliance with the License.\n",
              "// You may obtain a copy of the License at\n",
              "//\n",
              "//      http://www.apache.org/licenses/LICENSE-2.0\n",
              "//\n",
              "// Unless required by applicable law or agreed to in writing, software\n",
              "// distributed under the License is distributed on an \"AS IS\" BASIS,\n",
              "// WITHOUT WARRANTIES OR CONDITIONS OF ANY KIND, either express or implied.\n",
              "// See the License for the specific language governing permissions and\n",
              "// limitations under the License.\n",
              "\n",
              "/**\n",
              " * @fileoverview Helpers for google.colab Python module.\n",
              " */\n",
              "(function(scope) {\n",
              "function span(text, styleAttributes = {}) {\n",
              "  const element = document.createElement('span');\n",
              "  element.textContent = text;\n",
              "  for (const key of Object.keys(styleAttributes)) {\n",
              "    element.style[key] = styleAttributes[key];\n",
              "  }\n",
              "  return element;\n",
              "}\n",
              "\n",
              "// Max number of bytes which will be uploaded at a time.\n",
              "const MAX_PAYLOAD_SIZE = 100 * 1024;\n",
              "\n",
              "function _uploadFiles(inputId, outputId) {\n",
              "  const steps = uploadFilesStep(inputId, outputId);\n",
              "  const outputElement = document.getElementById(outputId);\n",
              "  // Cache steps on the outputElement to make it available for the next call\n",
              "  // to uploadFilesContinue from Python.\n",
              "  outputElement.steps = steps;\n",
              "\n",
              "  return _uploadFilesContinue(outputId);\n",
              "}\n",
              "\n",
              "// This is roughly an async generator (not supported in the browser yet),\n",
              "// where there are multiple asynchronous steps and the Python side is going\n",
              "// to poll for completion of each step.\n",
              "// This uses a Promise to block the python side on completion of each step,\n",
              "// then passes the result of the previous step as the input to the next step.\n",
              "function _uploadFilesContinue(outputId) {\n",
              "  const outputElement = document.getElementById(outputId);\n",
              "  const steps = outputElement.steps;\n",
              "\n",
              "  const next = steps.next(outputElement.lastPromiseValue);\n",
              "  return Promise.resolve(next.value.promise).then((value) => {\n",
              "    // Cache the last promise value to make it available to the next\n",
              "    // step of the generator.\n",
              "    outputElement.lastPromiseValue = value;\n",
              "    return next.value.response;\n",
              "  });\n",
              "}\n",
              "\n",
              "/**\n",
              " * Generator function which is called between each async step of the upload\n",
              " * process.\n",
              " * @param {string} inputId Element ID of the input file picker element.\n",
              " * @param {string} outputId Element ID of the output display.\n",
              " * @return {!Iterable<!Object>} Iterable of next steps.\n",
              " */\n",
              "function* uploadFilesStep(inputId, outputId) {\n",
              "  const inputElement = document.getElementById(inputId);\n",
              "  inputElement.disabled = false;\n",
              "\n",
              "  const outputElement = document.getElementById(outputId);\n",
              "  outputElement.innerHTML = '';\n",
              "\n",
              "  const pickedPromise = new Promise((resolve) => {\n",
              "    inputElement.addEventListener('change', (e) => {\n",
              "      resolve(e.target.files);\n",
              "    });\n",
              "  });\n",
              "\n",
              "  const cancel = document.createElement('button');\n",
              "  inputElement.parentElement.appendChild(cancel);\n",
              "  cancel.textContent = 'Cancel upload';\n",
              "  const cancelPromise = new Promise((resolve) => {\n",
              "    cancel.onclick = () => {\n",
              "      resolve(null);\n",
              "    };\n",
              "  });\n",
              "\n",
              "  // Wait for the user to pick the files.\n",
              "  const files = yield {\n",
              "    promise: Promise.race([pickedPromise, cancelPromise]),\n",
              "    response: {\n",
              "      action: 'starting',\n",
              "    }\n",
              "  };\n",
              "\n",
              "  cancel.remove();\n",
              "\n",
              "  // Disable the input element since further picks are not allowed.\n",
              "  inputElement.disabled = true;\n",
              "\n",
              "  if (!files) {\n",
              "    return {\n",
              "      response: {\n",
              "        action: 'complete',\n",
              "      }\n",
              "    };\n",
              "  }\n",
              "\n",
              "  for (const file of files) {\n",
              "    const li = document.createElement('li');\n",
              "    li.append(span(file.name, {fontWeight: 'bold'}));\n",
              "    li.append(span(\n",
              "        `(${file.type || 'n/a'}) - ${file.size} bytes, ` +\n",
              "        `last modified: ${\n",
              "            file.lastModifiedDate ? file.lastModifiedDate.toLocaleDateString() :\n",
              "                                    'n/a'} - `));\n",
              "    const percent = span('0% done');\n",
              "    li.appendChild(percent);\n",
              "\n",
              "    outputElement.appendChild(li);\n",
              "\n",
              "    const fileDataPromise = new Promise((resolve) => {\n",
              "      const reader = new FileReader();\n",
              "      reader.onload = (e) => {\n",
              "        resolve(e.target.result);\n",
              "      };\n",
              "      reader.readAsArrayBuffer(file);\n",
              "    });\n",
              "    // Wait for the data to be ready.\n",
              "    let fileData = yield {\n",
              "      promise: fileDataPromise,\n",
              "      response: {\n",
              "        action: 'continue',\n",
              "      }\n",
              "    };\n",
              "\n",
              "    // Use a chunked sending to avoid message size limits. See b/62115660.\n",
              "    let position = 0;\n",
              "    do {\n",
              "      const length = Math.min(fileData.byteLength - position, MAX_PAYLOAD_SIZE);\n",
              "      const chunk = new Uint8Array(fileData, position, length);\n",
              "      position += length;\n",
              "\n",
              "      const base64 = btoa(String.fromCharCode.apply(null, chunk));\n",
              "      yield {\n",
              "        response: {\n",
              "          action: 'append',\n",
              "          file: file.name,\n",
              "          data: base64,\n",
              "        },\n",
              "      };\n",
              "\n",
              "      let percentDone = fileData.byteLength === 0 ?\n",
              "          100 :\n",
              "          Math.round((position / fileData.byteLength) * 100);\n",
              "      percent.textContent = `${percentDone}% done`;\n",
              "\n",
              "    } while (position < fileData.byteLength);\n",
              "  }\n",
              "\n",
              "  // All done.\n",
              "  yield {\n",
              "    response: {\n",
              "      action: 'complete',\n",
              "    }\n",
              "  };\n",
              "}\n",
              "\n",
              "scope.google = scope.google || {};\n",
              "scope.google.colab = scope.google.colab || {};\n",
              "scope.google.colab._files = {\n",
              "  _uploadFiles,\n",
              "  _uploadFilesContinue,\n",
              "};\n",
              "})(self);\n",
              "</script> "
            ]
          },
          "metadata": {}
        },
        {
          "output_type": "stream",
          "name": "stdout",
          "text": [
            "Saving Frontend Engineer - Intern.pdf to Frontend Engineer - Intern.pdf\n"
          ]
        }
      ]
    },
    {
      "cell_type": "markdown",
      "source": [
        "\n",
        "**Uploading candidate resume & entering details**"
      ],
      "metadata": {
        "id": "510FMkgNkrjx"
      }
    },
    {
      "cell_type": "code",
      "source": [
        "print(\"Upload candidate resume PDF\")\n",
        "resume_file = files.upload()\n",
        "resume_path = next(iter(resume_file.keys()))\n",
        "candidate_email = input(\"Enter candidate's email: \")\n",
        "candidate_name=input(\"Enter candidate's name: \")\n"
      ],
      "metadata": {
        "colab": {
          "base_uri": "https://localhost:8080/",
          "height": 125
        },
        "id": "oUSe0LikkuBW",
        "outputId": "a93353f8-cd88-49df-9520-84d0ca77164e"
      },
      "execution_count": 15,
      "outputs": [
        {
          "output_type": "stream",
          "name": "stdout",
          "text": [
            "Upload candidate resume PDF\n"
          ]
        },
        {
          "output_type": "display_data",
          "data": {
            "text/plain": [
              "<IPython.core.display.HTML object>"
            ],
            "text/html": [
              "\n",
              "     <input type=\"file\" id=\"files-266c2729-25be-411c-a726-1e71fec46560\" name=\"files[]\" multiple disabled\n",
              "        style=\"border:none\" />\n",
              "     <output id=\"result-266c2729-25be-411c-a726-1e71fec46560\">\n",
              "      Upload widget is only available when the cell has been executed in the\n",
              "      current browser session. Please rerun this cell to enable.\n",
              "      </output>\n",
              "      <script>// Copyright 2017 Google LLC\n",
              "//\n",
              "// Licensed under the Apache License, Version 2.0 (the \"License\");\n",
              "// you may not use this file except in compliance with the License.\n",
              "// You may obtain a copy of the License at\n",
              "//\n",
              "//      http://www.apache.org/licenses/LICENSE-2.0\n",
              "//\n",
              "// Unless required by applicable law or agreed to in writing, software\n",
              "// distributed under the License is distributed on an \"AS IS\" BASIS,\n",
              "// WITHOUT WARRANTIES OR CONDITIONS OF ANY KIND, either express or implied.\n",
              "// See the License for the specific language governing permissions and\n",
              "// limitations under the License.\n",
              "\n",
              "/**\n",
              " * @fileoverview Helpers for google.colab Python module.\n",
              " */\n",
              "(function(scope) {\n",
              "function span(text, styleAttributes = {}) {\n",
              "  const element = document.createElement('span');\n",
              "  element.textContent = text;\n",
              "  for (const key of Object.keys(styleAttributes)) {\n",
              "    element.style[key] = styleAttributes[key];\n",
              "  }\n",
              "  return element;\n",
              "}\n",
              "\n",
              "// Max number of bytes which will be uploaded at a time.\n",
              "const MAX_PAYLOAD_SIZE = 100 * 1024;\n",
              "\n",
              "function _uploadFiles(inputId, outputId) {\n",
              "  const steps = uploadFilesStep(inputId, outputId);\n",
              "  const outputElement = document.getElementById(outputId);\n",
              "  // Cache steps on the outputElement to make it available for the next call\n",
              "  // to uploadFilesContinue from Python.\n",
              "  outputElement.steps = steps;\n",
              "\n",
              "  return _uploadFilesContinue(outputId);\n",
              "}\n",
              "\n",
              "// This is roughly an async generator (not supported in the browser yet),\n",
              "// where there are multiple asynchronous steps and the Python side is going\n",
              "// to poll for completion of each step.\n",
              "// This uses a Promise to block the python side on completion of each step,\n",
              "// then passes the result of the previous step as the input to the next step.\n",
              "function _uploadFilesContinue(outputId) {\n",
              "  const outputElement = document.getElementById(outputId);\n",
              "  const steps = outputElement.steps;\n",
              "\n",
              "  const next = steps.next(outputElement.lastPromiseValue);\n",
              "  return Promise.resolve(next.value.promise).then((value) => {\n",
              "    // Cache the last promise value to make it available to the next\n",
              "    // step of the generator.\n",
              "    outputElement.lastPromiseValue = value;\n",
              "    return next.value.response;\n",
              "  });\n",
              "}\n",
              "\n",
              "/**\n",
              " * Generator function which is called between each async step of the upload\n",
              " * process.\n",
              " * @param {string} inputId Element ID of the input file picker element.\n",
              " * @param {string} outputId Element ID of the output display.\n",
              " * @return {!Iterable<!Object>} Iterable of next steps.\n",
              " */\n",
              "function* uploadFilesStep(inputId, outputId) {\n",
              "  const inputElement = document.getElementById(inputId);\n",
              "  inputElement.disabled = false;\n",
              "\n",
              "  const outputElement = document.getElementById(outputId);\n",
              "  outputElement.innerHTML = '';\n",
              "\n",
              "  const pickedPromise = new Promise((resolve) => {\n",
              "    inputElement.addEventListener('change', (e) => {\n",
              "      resolve(e.target.files);\n",
              "    });\n",
              "  });\n",
              "\n",
              "  const cancel = document.createElement('button');\n",
              "  inputElement.parentElement.appendChild(cancel);\n",
              "  cancel.textContent = 'Cancel upload';\n",
              "  const cancelPromise = new Promise((resolve) => {\n",
              "    cancel.onclick = () => {\n",
              "      resolve(null);\n",
              "    };\n",
              "  });\n",
              "\n",
              "  // Wait for the user to pick the files.\n",
              "  const files = yield {\n",
              "    promise: Promise.race([pickedPromise, cancelPromise]),\n",
              "    response: {\n",
              "      action: 'starting',\n",
              "    }\n",
              "  };\n",
              "\n",
              "  cancel.remove();\n",
              "\n",
              "  // Disable the input element since further picks are not allowed.\n",
              "  inputElement.disabled = true;\n",
              "\n",
              "  if (!files) {\n",
              "    return {\n",
              "      response: {\n",
              "        action: 'complete',\n",
              "      }\n",
              "    };\n",
              "  }\n",
              "\n",
              "  for (const file of files) {\n",
              "    const li = document.createElement('li');\n",
              "    li.append(span(file.name, {fontWeight: 'bold'}));\n",
              "    li.append(span(\n",
              "        `(${file.type || 'n/a'}) - ${file.size} bytes, ` +\n",
              "        `last modified: ${\n",
              "            file.lastModifiedDate ? file.lastModifiedDate.toLocaleDateString() :\n",
              "                                    'n/a'} - `));\n",
              "    const percent = span('0% done');\n",
              "    li.appendChild(percent);\n",
              "\n",
              "    outputElement.appendChild(li);\n",
              "\n",
              "    const fileDataPromise = new Promise((resolve) => {\n",
              "      const reader = new FileReader();\n",
              "      reader.onload = (e) => {\n",
              "        resolve(e.target.result);\n",
              "      };\n",
              "      reader.readAsArrayBuffer(file);\n",
              "    });\n",
              "    // Wait for the data to be ready.\n",
              "    let fileData = yield {\n",
              "      promise: fileDataPromise,\n",
              "      response: {\n",
              "        action: 'continue',\n",
              "      }\n",
              "    };\n",
              "\n",
              "    // Use a chunked sending to avoid message size limits. See b/62115660.\n",
              "    let position = 0;\n",
              "    do {\n",
              "      const length = Math.min(fileData.byteLength - position, MAX_PAYLOAD_SIZE);\n",
              "      const chunk = new Uint8Array(fileData, position, length);\n",
              "      position += length;\n",
              "\n",
              "      const base64 = btoa(String.fromCharCode.apply(null, chunk));\n",
              "      yield {\n",
              "        response: {\n",
              "          action: 'append',\n",
              "          file: file.name,\n",
              "          data: base64,\n",
              "        },\n",
              "      };\n",
              "\n",
              "      let percentDone = fileData.byteLength === 0 ?\n",
              "          100 :\n",
              "          Math.round((position / fileData.byteLength) * 100);\n",
              "      percent.textContent = `${percentDone}% done`;\n",
              "\n",
              "    } while (position < fileData.byteLength);\n",
              "  }\n",
              "\n",
              "  // All done.\n",
              "  yield {\n",
              "    response: {\n",
              "      action: 'complete',\n",
              "    }\n",
              "  };\n",
              "}\n",
              "\n",
              "scope.google = scope.google || {};\n",
              "scope.google.colab = scope.google.colab || {};\n",
              "scope.google.colab._files = {\n",
              "  _uploadFiles,\n",
              "  _uploadFilesContinue,\n",
              "};\n",
              "})(self);\n",
              "</script> "
            ]
          },
          "metadata": {}
        },
        {
          "name": "stdout",
          "output_type": "stream",
          "text": [
            "Saving front-end-developer-resume-example.pdf to front-end-developer-resume-example.pdf\n",
            "Enter candidate's email: indravaraj345@gmail.com\n",
            "Enter candidate's name: indravaraj\n"
          ]
        }
      ]
    },
    {
      "cell_type": "markdown",
      "source": [
        "**Final Step**"
      ],
      "metadata": {
        "id": "4VENSuB9a2WK"
      }
    },
    {
      "cell_type": "code",
      "source": [
        "resume_screening(job_desc_path, resume_path, candidate_email,candidate_name)"
      ],
      "metadata": {
        "colab": {
          "base_uri": "https://localhost:8080/"
        },
        "id": "l73b6SHVrnFz",
        "outputId": "c3db97bd-1e6b-41c4-969a-cdf291836f1c"
      },
      "execution_count": 16,
      "outputs": [
        {
          "output_type": "stream",
          "name": "stdout",
          "text": [
            "Token File Exists!!\n",
            "ChatCompletion(id='chatcmpl-52c4aa42-351b-4552-860a-74d8976d7e3e', choices=[Choice(finish_reason='stop', index=0, logprobs=None, message=ChatCompletionMessage(content='YES', role='assistant', function_call=None, tool_calls=None))], created=1733594500, model='llama3-8b-8192', object='chat.completion', system_fingerprint='fp_6a6771ae9c', usage=CompletionUsage(completion_tokens=2, prompt_tokens=1405, total_tokens=1407, completion_time=0.001666667, prompt_time=0.182294324, queue_time=-0.0013703130000000119, total_time=0.183960991), x_groq={'id': 'req_01jeh4hk16fbdr7eg7edpgtf6q'})\n",
            "YES\n"
          ]
        }
      ]
    }
  ]
}